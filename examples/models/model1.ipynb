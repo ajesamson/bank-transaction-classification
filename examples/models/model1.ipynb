{
 "cells": [
  {
   "cell_type": "markdown",
   "id": "e83a6844",
   "metadata": {},
   "source": [
    "# Experiment using model 1\n",
    "Description"
   ]
  },
  {
   "cell_type": "code",
   "execution_count": 1,
   "id": "1cfb2f29",
   "metadata": {},
   "outputs": [
    {
     "name": "stdout",
     "output_type": "stream",
     "text": [
      "Numpy version: 1.22.3\n",
      "Pandas version: 1.4.2\n",
      "Library version: 0.1.0\n"
     ]
    }
   ],
   "source": [
    "import numpy as np\n",
    "import pandas as pd\n",
    "import btclassification\n",
    "from btclassification.datasets.dummy import dummy_dataset\n",
    "\n",
    "print(f\"Numpy version: {np.__version__}\")\n",
    "print(f\"Pandas version: {pd.__version__}\")\n",
    "print(f\"Library version: {btclassification.__version__}\")"
   ]
  },
  {
   "cell_type": "markdown",
   "id": "0f440f7d",
   "metadata": {},
   "source": [
    "## Model theoretical explanation\n",
    "This model is based on...."
   ]
  },
  {
   "cell_type": "code",
   "execution_count": null,
   "id": "5d08d74e",
   "metadata": {},
   "outputs": [],
   "source": [
    "# Parameters\n",
    "batch_size = 32\n",
    "n_layers = 5"
   ]
  },
  {
   "cell_type": "markdown",
   "id": "8272dfb8",
   "metadata": {},
   "source": [
    "# Data Prep"
   ]
  },
  {
   "cell_type": "code",
   "execution_count": 2,
   "id": "6c61040c",
   "metadata": {},
   "outputs": [
    {
     "name": "stdout",
     "output_type": "stream",
     "text": [
      "[1, 2, 3, 4]\n"
     ]
    }
   ],
   "source": [
    "dataset = dummy_dataset()\n",
    "print(dataset)"
   ]
  },
  {
   "cell_type": "code",
   "execution_count": null,
   "id": "58880a0f",
   "metadata": {},
   "outputs": [],
   "source": []
  },
  {
   "cell_type": "markdown",
   "id": "5e6a8c03",
   "metadata": {},
   "source": [
    "# Model training"
   ]
  },
  {
   "cell_type": "code",
   "execution_count": null,
   "id": "af5a7c8f",
   "metadata": {},
   "outputs": [],
   "source": [
    "# model.fit"
   ]
  },
  {
   "cell_type": "code",
   "execution_count": null,
   "id": "aefd7c6d",
   "metadata": {},
   "outputs": [],
   "source": [
    "# preds = model.test"
   ]
  },
  {
   "cell_type": "markdown",
   "id": "de4fd75c",
   "metadata": {},
   "source": [
    "# Evaluation"
   ]
  },
  {
   "cell_type": "code",
   "execution_count": null,
   "id": "eec8ac58",
   "metadata": {},
   "outputs": [],
   "source": [
    "# model_auc = auc(true, preds)"
   ]
  },
  {
   "cell_type": "markdown",
   "id": "53c925ee",
   "metadata": {},
   "source": [
    "## Summary"
   ]
  },
  {
   "cell_type": "code",
   "execution_count": null,
   "id": "a132d5c8",
   "metadata": {},
   "outputs": [],
   "source": []
  }
 ],
 "metadata": {
  "kernelspec": {
   "display_name": "Python 3 (ipykernel)",
   "language": "python",
   "name": "python3"
  },
  "language_info": {
   "codemirror_mode": {
    "name": "ipython",
    "version": 3
   },
   "file_extension": ".py",
   "mimetype": "text/x-python",
   "name": "python",
   "nbconvert_exporter": "python",
   "pygments_lexer": "ipython3",
   "version": "3.9.7"
  }
 },
 "nbformat": 4,
 "nbformat_minor": 5
}
